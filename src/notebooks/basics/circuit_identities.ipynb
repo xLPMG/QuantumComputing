{
 "cells": [
  {
   "cell_type": "markdown",
   "id": "aa5cf147",
   "metadata": {},
   "source": [
    "# Circuit identities"
   ]
  },
  {
   "attachments": {},
   "cell_type": "markdown",
   "id": "5fb06c43",
   "metadata": {},
   "source": [
    "This notebook will demonstrate how to break down complex gates into simpler ones. This is useful because simpler gates can be implemented much easier in hardware while also making the device more universal."
   ]
  },
  {
   "cell_type": "code",
   "execution_count": 1,
   "id": "b4c8c1a8",
   "metadata": {},
   "outputs": [],
   "source": [
    "from qiskit import QuantumCircuit, Aer, assemble\n",
    "from math import pi\n",
    "import numpy as np\n",
    "from qiskit.visualization import plot_bloch_multivector, plot_histogram, array_to_latex\n",
    "usim = Aer.get_backend('aer_simulator')"
   ]
  },
  {
   "cell_type": "markdown",
   "id": "ac04886f",
   "metadata": {},
   "source": [
    "## Flipped CNOT"
   ]
  },
  {
   "attachments": {},
   "cell_type": "markdown",
   "id": "9a84991f",
   "metadata": {},
   "source": [
    "Using a single flipped CNOT gate:"
   ]
  },
  {
   "cell_type": "code",
   "execution_count": 2,
   "id": "5b190021",
   "metadata": {},
   "outputs": [
    {
     "data": {
      "text/html": [
       "<pre style=\"word-wrap: normal;white-space: pre;background: #fff0;line-height: 1.1;font-family: &quot;Courier New&quot;,Courier,monospace\">     ┌───┐\n",
       "q_0: ┤ X ├\n",
       "     └─┬─┘\n",
       "q_1: ──■──\n",
       "          </pre>"
      ],
      "text/plain": [
       "     ┌───┐\n",
       "q_0: ┤ X ├\n",
       "     └─┬─┘\n",
       "q_1: ──■──\n",
       "          "
      ]
     },
     "metadata": {},
     "output_type": "display_data"
    }
   ],
   "source": [
    "qc_0 = QuantumCircuit(2)\n",
    "qc_0.cx(1,0)\n",
    "display(qc_0.draw()) \n",
    "\n",
    "qc_0.save_unitary()\n",
    "qobj = assemble(qc_0)\n",
    "unitary_0 = usim.run(qobj).result().get_unitary()"
   ]
  },
  {
   "attachments": {},
   "cell_type": "markdown",
   "id": "c51985fe",
   "metadata": {},
   "source": [
    "Implementation using a standard CNOT and Hadamard gates:"
   ]
  },
  {
   "cell_type": "code",
   "execution_count": 3,
   "id": "7a1f69f2",
   "metadata": {},
   "outputs": [
    {
     "data": {
      "text/html": [
       "<pre style=\"word-wrap: normal;white-space: pre;background: #fff0;line-height: 1.1;font-family: &quot;Courier New&quot;,Courier,monospace\">     ┌───┐     ┌───┐\n",
       "q_0: ┤ H ├──■──┤ H ├\n",
       "     ├───┤┌─┴─┐├───┤\n",
       "q_1: ┤ H ├┤ X ├┤ H ├\n",
       "     └───┘└───┘└───┘</pre>"
      ],
      "text/plain": [
       "     ┌───┐     ┌───┐\n",
       "q_0: ┤ H ├──■──┤ H ├\n",
       "     ├───┤┌─┴─┐├───┤\n",
       "q_1: ┤ H ├┤ X ├┤ H ├\n",
       "     └───┘└───┘└───┘"
      ]
     },
     "metadata": {},
     "output_type": "display_data"
    }
   ],
   "source": [
    "qc_1 = QuantumCircuit(2)\n",
    "qc_1.h(0)\n",
    "qc_1.h(1)\n",
    "qc_1.cx(0,1)\n",
    "qc_1.h(0)\n",
    "qc_1.h(1)\n",
    "display(qc_1.draw()) \n",
    "\n",
    "qc_1.save_unitary()\n",
    "qobj = assemble(qc_1)\n",
    "unitary_1 = usim.run(qobj).result().get_unitary()"
   ]
  },
  {
   "attachments": {},
   "cell_type": "markdown",
   "id": "bf3dcfd8",
   "metadata": {},
   "source": [
    "### Comparing both operations"
   ]
  },
  {
   "cell_type": "code",
   "execution_count": 4,
   "id": "8e098b82",
   "metadata": {},
   "outputs": [
    {
     "data": {
      "text/latex": [
       "$$\n",
       "\\text{Circuit 0 = }\n",
       "\n",
       "\\begin{bmatrix}\n",
       "1 & 0 & 0 & 0  \\\\\n",
       " 0 & 1 & 0 & 0  \\\\\n",
       " 0 & 0 & 0 & 1  \\\\\n",
       " 0 & 0 & 1 & 0  \\\\\n",
       " \\end{bmatrix}\n",
       "$$"
      ],
      "text/plain": [
       "<IPython.core.display.Latex object>"
      ]
     },
     "execution_count": 4,
     "metadata": {},
     "output_type": "execute_result"
    }
   ],
   "source": [
    "array_to_latex(unitary_0, prefix=\"\\\\text{Circuit 0 = }\\n\")"
   ]
  },
  {
   "cell_type": "code",
   "execution_count": 5,
   "id": "1789570e",
   "metadata": {},
   "outputs": [
    {
     "data": {
      "text/latex": [
       "$$\n",
       "\\text{Circuit 1 = }\n",
       "\n",
       "\\begin{bmatrix}\n",
       "1 & 0 & 0 & 0  \\\\\n",
       " 0 & 1 & 0 & 0  \\\\\n",
       " 0 & 0 & 0 & 1  \\\\\n",
       " 0 & 0 & 1 & 0  \\\\\n",
       " \\end{bmatrix}\n",
       "$$"
      ],
      "text/plain": [
       "<IPython.core.display.Latex object>"
      ]
     },
     "execution_count": 5,
     "metadata": {},
     "output_type": "execute_result"
    }
   ],
   "source": [
    "array_to_latex(unitary_1, prefix=\"\\\\text{Circuit 1 = }\\n\")"
   ]
  },
  {
   "cell_type": "markdown",
   "id": "eb6ecb3e",
   "metadata": {},
   "source": [
    "-> both circuits perform the same operation. This shows that a CNOT can be flipped, simply by encasing control and target bit in Hadamard gates. This is useful in practical cases, where in some hardware CNOTS are only implemented in one direction."
   ]
  },
  {
   "attachments": {},
   "cell_type": "markdown",
   "id": "917119f0",
   "metadata": {},
   "source": [
    "## Controlled-Z using CNOT"
   ]
  },
  {
   "attachments": {},
   "cell_type": "markdown",
   "id": "432af017",
   "metadata": {},
   "source": [
    "CZ using a single gate:"
   ]
  },
  {
   "cell_type": "code",
   "execution_count": 6,
   "id": "b06c7608",
   "metadata": {},
   "outputs": [
    {
     "data": {
      "text/html": [
       "<pre style=\"word-wrap: normal;white-space: pre;background: #fff0;line-height: 1.1;font-family: &quot;Courier New&quot;,Courier,monospace\">         unitary \n",
       "q_0: ─■─────░────\n",
       "      │     ░    \n",
       "q_1: ─■─────░────\n",
       "            ░    </pre>"
      ],
      "text/plain": [
       "         unitary \n",
       "q_0: ─■─────░────\n",
       "      │     ░    \n",
       "q_1: ─■─────░────\n",
       "            ░    "
      ]
     },
     "execution_count": 6,
     "metadata": {},
     "output_type": "execute_result"
    }
   ],
   "source": [
    "qc_2 = QuantumCircuit(2)\n",
    "c = 0\n",
    "t = 1\n",
    "\n",
    "qc_2.cz(c,t)\n",
    "\n",
    "qc_2.save_unitary()\n",
    "qobj = assemble(qc_2)\n",
    "unitary_2 = usim.run(qobj).result().get_unitary()\n",
    "\n",
    "qc_2.draw()"
   ]
  },
  {
   "attachments": {},
   "cell_type": "markdown",
   "id": "e7d28a6e",
   "metadata": {},
   "source": [
    "CZ using CNOT:"
   ]
  },
  {
   "cell_type": "code",
   "execution_count": 7,
   "id": "9f27af7a",
   "metadata": {},
   "outputs": [
    {
     "data": {
      "text/html": [
       "<pre style=\"word-wrap: normal;white-space: pre;background: #fff0;line-height: 1.1;font-family: &quot;Courier New&quot;,Courier,monospace\">                     unitary \n",
       "q_0: ───────■───────────░────\n",
       "     ┌───┐┌─┴─┐┌───┐    ░    \n",
       "q_1: ┤ H ├┤ X ├┤ H ├────░────\n",
       "     └───┘└───┘└───┘    ░    </pre>"
      ],
      "text/plain": [
       "                     unitary \n",
       "q_0: ───────■───────────░────\n",
       "     ┌───┐┌─┴─┐┌───┐    ░    \n",
       "q_1: ┤ H ├┤ X ├┤ H ├────░────\n",
       "     └───┘└───┘└───┘    ░    "
      ]
     },
     "execution_count": 7,
     "metadata": {},
     "output_type": "execute_result"
    }
   ],
   "source": [
    "qc_3 = QuantumCircuit(2)\n",
    "c = 0\n",
    "t = 1\n",
    "\n",
    "qc_3.h(t)\n",
    "qc_3.cx(c,t)\n",
    "qc_3.h(t)\n",
    "\n",
    "qc_3.save_unitary()\n",
    "qobj = assemble(qc_3)\n",
    "unitary_3 = usim.run(qobj).result().get_unitary()\n",
    "\n",
    "qc_3.draw()"
   ]
  },
  {
   "attachments": {},
   "cell_type": "markdown",
   "id": "516b61c9",
   "metadata": {},
   "source": [
    "### Comparing both operations"
   ]
  },
  {
   "cell_type": "code",
   "execution_count": 8,
   "id": "6ca4df85",
   "metadata": {},
   "outputs": [
    {
     "data": {
      "text/latex": [
       "$$\n",
       "\\text{Circuit 2 = }\n",
       "\n",
       "\\begin{bmatrix}\n",
       "1 & 0 & 0 & 0  \\\\\n",
       " 0 & 1 & 0 & 0  \\\\\n",
       " 0 & 0 & 1 & 0  \\\\\n",
       " 0 & 0 & 0 & -1  \\\\\n",
       " \\end{bmatrix}\n",
       "$$"
      ],
      "text/plain": [
       "<IPython.core.display.Latex object>"
      ]
     },
     "execution_count": 8,
     "metadata": {},
     "output_type": "execute_result"
    }
   ],
   "source": [
    "array_to_latex(unitary_2, prefix=\"\\\\text{Circuit 2 = }\\n\")"
   ]
  },
  {
   "cell_type": "code",
   "execution_count": 9,
   "id": "c2edee55",
   "metadata": {},
   "outputs": [
    {
     "data": {
      "text/latex": [
       "$$\n",
       "\\text{Circuit 3 = }\n",
       "\n",
       "\\begin{bmatrix}\n",
       "1 & 0 & 0 & 0  \\\\\n",
       " 0 & 1 & 0 & 0  \\\\\n",
       " 0 & 0 & 1 & 0  \\\\\n",
       " 0 & 0 & 0 & -1  \\\\\n",
       " \\end{bmatrix}\n",
       "$$"
      ],
      "text/plain": [
       "<IPython.core.display.Latex object>"
      ]
     },
     "execution_count": 9,
     "metadata": {},
     "output_type": "execute_result"
    }
   ],
   "source": [
    "array_to_latex(unitary_3, prefix=\"\\\\text{Circuit 3 = }\\n\")"
   ]
  },
  {
   "attachments": {},
   "cell_type": "markdown",
   "id": "9674c39f",
   "metadata": {},
   "source": [
    "Again, both circuits perform the same operation. Note that\n",
    "$$\n",
    "H X H = Z,\\\\\\\\\n",
    "H Z H = X.\n",
    "$$\n"
   ]
  },
  {
   "attachments": {},
   "cell_type": "markdown",
   "id": "251a4e29",
   "metadata": {},
   "source": [
    "## SWAP"
   ]
  },
  {
   "cell_type": "code",
   "execution_count": 10,
   "id": "d9fd8583",
   "metadata": {},
   "outputs": [],
   "source": [
    "a = 0\n",
    "b = 1"
   ]
  },
  {
   "attachments": {},
   "cell_type": "markdown",
   "id": "ae3ec8d9",
   "metadata": {},
   "source": [
    "Using a single SWAP gate:"
   ]
  },
  {
   "cell_type": "code",
   "execution_count": 11,
   "id": "c48eb04f",
   "metadata": {},
   "outputs": [
    {
     "data": {
      "text/html": [
       "<pre style=\"word-wrap: normal;white-space: pre;background: #fff0;line-height: 1.1;font-family: &quot;Courier New&quot;,Courier,monospace\">         unitary \n",
       "q_0: ─X─────░────\n",
       "      │     ░    \n",
       "q_1: ─X─────░────\n",
       "            ░    </pre>"
      ],
      "text/plain": [
       "         unitary \n",
       "q_0: ─X─────░────\n",
       "      │     ░    \n",
       "q_1: ─X─────░────\n",
       "            ░    "
      ]
     },
     "execution_count": 11,
     "metadata": {},
     "output_type": "execute_result"
    }
   ],
   "source": [
    "qc_4 = QuantumCircuit(2)\n",
    "\n",
    "qc_4.swap(a,b)\n",
    "\n",
    "qc_4.save_unitary()\n",
    "qobj = assemble(qc_4)\n",
    "unitary_4 = usim.run(qobj).result().get_unitary()\n",
    "\n",
    "qc_4.draw()"
   ]
  },
  {
   "attachments": {},
   "cell_type": "markdown",
   "id": "35a7d6b7",
   "metadata": {},
   "source": [
    "Using 3 CNOT gates:"
   ]
  },
  {
   "cell_type": "code",
   "execution_count": 12,
   "id": "de563c6d",
   "metadata": {},
   "outputs": [
    {
     "data": {
      "text/html": [
       "<pre style=\"word-wrap: normal;white-space: pre;background: #fff0;line-height: 1.1;font-family: &quot;Courier New&quot;,Courier,monospace\">     ┌───┐     ┌───┐ unitary \n",
       "q_0: ┤ X ├──■──┤ X ├────░────\n",
       "     └─┬─┘┌─┴─┐└─┬─┘    ░    \n",
       "q_1: ──■──┤ X ├──■──────░────\n",
       "          └───┘         ░    </pre>"
      ],
      "text/plain": [
       "     ┌───┐     ┌───┐ unitary \n",
       "q_0: ┤ X ├──■──┤ X ├────░────\n",
       "     └─┬─┘┌─┴─┐└─┬─┘    ░    \n",
       "q_1: ──■──┤ X ├──■──────░────\n",
       "          └───┘         ░    "
      ]
     },
     "execution_count": 12,
     "metadata": {},
     "output_type": "execute_result"
    }
   ],
   "source": [
    "qc_5 = QuantumCircuit(2)\n",
    "\n",
    "qc_5.cx(b,a)\n",
    "qc_5.cx(a,b)\n",
    "qc_5.cx(b,a)\n",
    "\n",
    "qc_5.save_unitary()\n",
    "qobj = assemble(qc_5)\n",
    "unitary_5 = usim.run(qobj).result().get_unitary()\n",
    "\n",
    "qc_5.draw()"
   ]
  },
  {
   "attachments": {},
   "cell_type": "markdown",
   "id": "e9eff4d2",
   "metadata": {},
   "source": [
    "### Comparing both operations"
   ]
  },
  {
   "cell_type": "code",
   "execution_count": 13,
   "id": "2ed39323",
   "metadata": {},
   "outputs": [
    {
     "data": {
      "text/latex": [
       "$$\n",
       "\\text{Circuit 4 = }\n",
       "\n",
       "\\begin{bmatrix}\n",
       "1 & 0 & 0 & 0  \\\\\n",
       " 0 & 0 & 1 & 0  \\\\\n",
       " 0 & 1 & 0 & 0  \\\\\n",
       " 0 & 0 & 0 & 1  \\\\\n",
       " \\end{bmatrix}\n",
       "$$"
      ],
      "text/plain": [
       "<IPython.core.display.Latex object>"
      ]
     },
     "execution_count": 13,
     "metadata": {},
     "output_type": "execute_result"
    }
   ],
   "source": [
    "array_to_latex(unitary_4, prefix=\"\\\\text{Circuit 4 = }\\n\")"
   ]
  },
  {
   "cell_type": "code",
   "execution_count": 14,
   "id": "751966e4",
   "metadata": {},
   "outputs": [
    {
     "data": {
      "text/latex": [
       "$$\n",
       "\\text{Circuit 5 = }\n",
       "\n",
       "\\begin{bmatrix}\n",
       "1 & 0 & 0 & 0  \\\\\n",
       " 0 & 0 & 1 & 0  \\\\\n",
       " 0 & 1 & 0 & 0  \\\\\n",
       " 0 & 0 & 0 & 1  \\\\\n",
       " \\end{bmatrix}\n",
       "$$"
      ],
      "text/plain": [
       "<IPython.core.display.Latex object>"
      ]
     },
     "execution_count": 14,
     "metadata": {},
     "output_type": "execute_result"
    }
   ],
   "source": [
    "array_to_latex(unitary_5, prefix=\"\\\\text{Circuit 5 = }\\n\")"
   ]
  }
 ],
 "metadata": {
  "kernelspec": {
   "display_name": "Python 3 (ipykernel)",
   "language": "python",
   "name": "python3"
  },
  "language_info": {
   "codemirror_mode": {
    "name": "ipython",
    "version": 3
   },
   "file_extension": ".py",
   "mimetype": "text/x-python",
   "name": "python",
   "nbconvert_exporter": "python",
   "pygments_lexer": "ipython3",
   "version": "3.11.2"
  }
 },
 "nbformat": 4,
 "nbformat_minor": 5
}
