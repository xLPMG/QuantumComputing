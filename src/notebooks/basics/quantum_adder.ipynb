{
 "cells": [
  {
   "cell_type": "markdown",
   "id": "707ff1cf",
   "metadata": {},
   "source": [
    "# Quantum Full Adder"
   ]
  },
  {
   "cell_type": "markdown",
   "id": "afd3333c",
   "metadata": {},
   "source": [
    "To skip the code explanation and move directly to the results, [click here](#research)."
   ]
  },
  {
   "cell_type": "markdown",
   "id": "08b336d3",
   "metadata": {},
   "source": [
    "## Basic requirements"
   ]
  },
  {
   "cell_type": "markdown",
   "id": "147c104f",
   "metadata": {},
   "source": [
    "A full adder requires input bits A, B and a carry in bit $c_{in}$ as well as two output bits for the result OUT and the carry out $c_{out}$. After measuring, we will map OUT and $c_{out}$ to two classical bits $c_{0}$ and $c_{1}$"
   ]
  },
  {
   "cell_type": "code",
   "execution_count": 23,
   "id": "eeec9b64",
   "metadata": {},
   "outputs": [],
   "source": [
    "import numpy as np\n",
    "from qiskit import *\n",
    "\n",
    "circuit = QuantumCircuit(4, 2)"
   ]
  },
  {
   "cell_type": "markdown",
   "id": "feeb11c5",
   "metadata": {},
   "source": [
    "## Initialize some values"
   ]
  },
  {
   "cell_type": "markdown",
   "id": "446d72d3",
   "metadata": {},
   "source": [
    "This will induce the following states:\n",
    "<br>A=0\n",
    "<br>B=1\n",
    "<br>$C_{in}$=1"
   ]
  },
  {
   "cell_type": "code",
   "execution_count": 24,
   "id": "ec87403c",
   "metadata": {},
   "outputs": [],
   "source": [
    "circuit.x(1);\n",
    "circuit.x(2);"
   ]
  },
  {
   "cell_type": "code",
   "execution_count": 25,
   "id": "4fb75698",
   "metadata": {},
   "outputs": [
    {
     "data": {
      "image/png": "[encoded data removed]",
      "text/plain": [
       "<Figure size 203.885x451.5 with 1 Axes>"
      ]
     },
     "execution_count": 25,
     "metadata": {},
     "output_type": "execute_result"
    }
   ],
   "source": [
    "circuit.draw(output='mpl')"
   ]
  },
  {
   "cell_type": "markdown",
   "id": "c688d060",
   "metadata": {},
   "source": [
    "Note:\n",
    "<br>$q_0$ = A \n",
    "<br>$q_1$ = B\n",
    "<br>$q_2$ = $c_{in}$ and OUT\n",
    "<br>$q_3$ = $c_{out}$"
   ]
  },
  {
   "cell_type": "markdown",
   "id": "cefa5d37",
   "metadata": {},
   "source": [
    "In our circuit, we will make use of the CNOT gate and the Toffoli gate (CCNOT):"
   ]
  },
  {
   "cell_type": "markdown",
   "id": "afebb485",
   "metadata": {},
   "source": [
    "## Gates"
   ]
  },
  {
   "cell_type": "markdown",
   "id": "2999e5f1",
   "metadata": {},
   "source": [
    "$$CNOT=\\begin{bmatrix} 1 & 0 & 0 & 0 \\\\ 0 & 1 & 0 & 0 \\\\ 0 & 0 & 0 & 1 \\\\ 0 & 0 & 1 & 0 \\end{bmatrix}$$\n",
    "<br>CNOT flips the second input bit, if the first input bit is set to 1."
   ]
  },
  {
   "cell_type": "markdown",
   "id": "5cb059ab",
   "metadata": {},
   "source": [
    "$$CCNOT=\\begin{bmatrix} 1 & 0 & 0 & 0 & 0 & 0 & 0 & 0 \\\\ 0 & 1 & 0 & 0 & 0 & 0 & 0 & 0 \\\\ 0 & 0 & 1 & 0 & 0 & 0 & 0 & 0 \\\\ 0 & 0 & 0 & 1 & 0 & 0 & 0 & 0 \\\\ 0 & 0 & 0 & 0 & 1 & 0 & 0 & 0 \\\\ 0 & 0 & 0 & 0 & 0 & 1 & 0 & 0 \\\\ 0 & 0 & 0 & 0 & 0 & 0 & 0 & 1 \\\\ 0 & 0 & 0 & 0 & 0 & 0 & 1 & 0 \\end{bmatrix}$$\n",
    "<br>CCNOT flips the third input bit, if the first two input bits are both set to 1."
   ]
  },
  {
   "cell_type": "markdown",
   "id": "eed7f138",
   "metadata": {},
   "source": [
    "## Full Adder Logical Formulae"
   ]
  },
  {
   "cell_type": "markdown",
   "id": "000110b0",
   "metadata": {},
   "source": [
    "We can compute the outputs in the following way:\n",
    "<br>OUT = (A XOR B) XOR $C_{in}$\n",
    "<br>$C_{out}$ = A\\*B + A\\*$C_{in}$ + B\\*$C_{in}$ = A\\*B + (A+B)\\*$C_{in}$ which we can rewrite as A\\*B + (A XOR B)\\*$C_{in}$ (to fit better in our circuit)"
   ]
  },
  {
   "cell_type": "markdown",
   "id": "0eeb675a",
   "metadata": {},
   "source": [
    "## Full adder using quantum gates"
   ]
  },
  {
   "cell_type": "markdown",
   "id": "46636174",
   "metadata": {},
   "source": [
    "### 1\\) A\\*B -> $C_{out}$  "
   ]
  },
  {
   "cell_type": "code",
   "execution_count": 26,
   "id": "0a24bcb9",
   "metadata": {},
   "outputs": [],
   "source": [
    "circuit.toffoli(0, 1, 3);"
   ]
  },
  {
   "cell_type": "markdown",
   "id": "07a405c4",
   "metadata": {},
   "source": [
    "### 2\\) A XOR B -> B (CNOT(A, B))"
   ]
  },
  {
   "cell_type": "code",
   "execution_count": 27,
   "id": "afb717aa",
   "metadata": {},
   "outputs": [],
   "source": [
    "circuit.cx(0, 1);"
   ]
  },
  {
   "cell_type": "markdown",
   "id": "a77eff9f",
   "metadata": {},
   "source": [
    "### 3\\) (A XOR B) \\* $C_{in}$ -> $C_{out}$"
   ]
  },
  {
   "cell_type": "code",
   "execution_count": 28,
   "id": "b536d6f5",
   "metadata": {},
   "outputs": [],
   "source": [
    "circuit.toffoli(1, 2, 3);"
   ]
  },
  {
   "cell_type": "markdown",
   "id": "4958f453",
   "metadata": {},
   "source": [
    "With 1) and 3) we have now set $C_{out}$ to A\\*B + (A XOR B)\\*$C_{in}$"
   ]
  },
  {
   "cell_type": "markdown",
   "id": "593735c9",
   "metadata": {},
   "source": [
    "### 4\\) (A XOR B) XOR $C_{in}$ -> OUT"
   ]
  },
  {
   "cell_type": "markdown",
   "id": "124f0a41",
   "metadata": {},
   "source": [
    "Note: $C_{in}$ and OUT share the same wire."
   ]
  },
  {
   "cell_type": "code",
   "execution_count": 29,
   "id": "8125aaca",
   "metadata": {},
   "outputs": [],
   "source": [
    "circuit.cx(1, 2);"
   ]
  },
  {
   "cell_type": "markdown",
   "id": "84affbbd",
   "metadata": {},
   "source": [
    "### 5\\) Return wire B to its original input state"
   ]
  },
  {
   "cell_type": "markdown",
   "id": "cc241daf",
   "metadata": {},
   "source": [
    "We will achieve this by performing step 1 again, effectively doing:\n",
    "<br>A XOR (A XOR B) = B"
   ]
  },
  {
   "cell_type": "code",
   "execution_count": 30,
   "id": "1e7f15f6",
   "metadata": {},
   "outputs": [],
   "source": [
    "circuit.cx(0, 1);"
   ]
  },
  {
   "cell_type": "markdown",
   "id": "7bd1a875",
   "metadata": {},
   "source": [
    "### Measure the results"
   ]
  },
  {
   "cell_type": "code",
   "execution_count": 31,
   "id": "f6f7dff7",
   "metadata": {},
   "outputs": [],
   "source": [
    "circuit.measure([2,3], [1,0]);"
   ]
  },
  {
   "cell_type": "markdown",
   "id": "a2bd9d56",
   "metadata": {},
   "source": [
    "## The complete circuit"
   ]
  },
  {
   "cell_type": "code",
   "execution_count": 32,
   "id": "af0cbec7",
   "metadata": {
    "scrolled": false
   },
   "outputs": [
    {
     "data": {
      "image/png": "[encoded data removed]",
      "text/plain": [
       "<Figure size 621.941x451.5 with 1 Axes>"
      ]
     },
     "execution_count": 32,
     "metadata": {},
     "output_type": "execute_result"
    }
   ],
   "source": [
    "%matplotlib inline\n",
    "circuit.draw(output='mpl')"
   ]
  },
  {
   "cell_type": "markdown",
   "id": "81012d19",
   "metadata": {},
   "source": [
    "## Simulate the code"
   ]
  },
  {
   "cell_type": "code",
   "execution_count": 33,
   "id": "7dc2f21d",
   "metadata": {},
   "outputs": [
    {
     "name": "stdout",
     "output_type": "stream",
     "text": [
      "{'01': 1000}\n"
     ]
    }
   ],
   "source": [
    "from qiskit.providers.aer import QasmSimulator\n",
    "from qiskit.visualization import plot_histogram\n",
    "\n",
    "simulator = QasmSimulator()\n",
    "compiled_circuit = transpile(circuit, simulator)\n",
    "result = simulator.run(compiled_circuit, shots=1000).result()\n",
    "\n",
    "counts = result.get_counts(compiled_circuit)\n",
    "print(counts)"
   ]
  },
  {
   "cell_type": "markdown",
   "id": "1eb27582",
   "metadata": {},
   "source": [
    "All 1000 computations resulted in 01, meaning OUT = 0 and $C_{out}$=1"
   ]
  },
  {
   "cell_type": "markdown",
   "id": "b5ee4784",
   "metadata": {},
   "source": [
    "# Research: addition of quantum states <a id='research'></a>"
   ]
  },
  {
   "cell_type": "markdown",
   "id": "f25d1ddd",
   "metadata": {},
   "source": [
    "In the example above, we used only standard basis vectors ( |0> and |1> ) which behaved just like classical bits would. \n",
    "<br>We will now look at more interesting states."
   ]
  },
  {
   "cell_type": "markdown",
   "id": "7a7bc610",
   "metadata": {},
   "source": [
    "## Performing Hadamard operations to the inputs"
   ]
  },
  {
   "cell_type": "markdown",
   "id": "f7eac41d",
   "metadata": {},
   "source": [
    "### 1) A in superposition and B, C = 0"
   ]
  },
  {
   "cell_type": "code",
   "execution_count": 34,
   "id": "b715910c",
   "metadata": {},
   "outputs": [
    {
     "name": "stdout",
     "output_type": "stream",
     "text": [
      "{output : number of shots} =  {'00': 530, '10': 470}\n"
     ]
    }
   ],
   "source": [
    "circuit = QuantumCircuit(4, 2)\n",
    "\n",
    "# init states\n",
    "circuit.h(0)\n",
    "\n",
    "# gates\n",
    "circuit.toffoli(0, 1, 3);\n",
    "circuit.cx(0, 1);\n",
    "circuit.toffoli(1, 2, 3);\n",
    "circuit.cx(1, 2);\n",
    "circuit.cx(0, 1);\n",
    "\n",
    "circuit.measure([2,3], [1,0]);\n",
    "\n",
    "simulator = QasmSimulator()\n",
    "compiled_circuit = transpile(circuit, simulator)\n",
    "job = simulator.run(compiled_circuit, shots=1000)\n",
    "result = job.result()\n",
    "\n",
    "counts = result.get_counts(compiled_circuit)\n",
    "print(\"{output : number of shots} = \",counts)"
   ]
  },
  {
   "cell_type": "code",
   "execution_count": 35,
   "id": "e787e8b0",
   "metadata": {},
   "outputs": [
    {
     "data": {
      "image/png": "[encoded data removed]",
      "text/plain": [
       "<Figure size 621.941x451.5 with 1 Axes>"
      ]
     },
     "execution_count": 35,
     "metadata": {},
     "output_type": "execute_result"
    }
   ],
   "source": [
    "%matplotlib inline\n",
    "circuit.draw(output='mpl')"
   ]
  },
  {
   "cell_type": "code",
   "execution_count": 36,
   "id": "e59f4b9e",
   "metadata": {
    "scrolled": false
   },
   "outputs": [
    {
     "data": {
      "image/png": "[encoded data removed]",
      "text/plain": [
       "<Figure size 700x500 with 1 Axes>"
      ]
     },
     "execution_count": 36,
     "metadata": {},
     "output_type": "execute_result"
    }
   ],
   "source": [
    "plot_histogram(counts)"
   ]
  },
  {
   "cell_type": "markdown",
   "id": "d169b744",
   "metadata": {},
   "source": [
    "### 2) A and B entangled, C in superposition"
   ]
  },
  {
   "cell_type": "code",
   "execution_count": 37,
   "id": "a25ea11b",
   "metadata": {},
   "outputs": [
    {
     "name": "stdout",
     "output_type": "stream",
     "text": [
      "{output : number of shots} =  {'01': 249, '10': 267, '11': 240, '00': 244}\n"
     ]
    }
   ],
   "source": [
    "circuit = QuantumCircuit(4, 2)\n",
    "\n",
    "# init states\n",
    "circuit.h(0)\n",
    "circuit.cx(0,1)\n",
    "\n",
    "circuit.h(2)\n",
    "\n",
    "# gates\n",
    "circuit.toffoli(0, 1, 3);\n",
    "circuit.cx(0, 1);\n",
    "circuit.toffoli(1, 2, 3);\n",
    "circuit.cx(1, 2);\n",
    "circuit.cx(0, 1);\n",
    "\n",
    "circuit.measure([2,3], [1,0]);\n",
    "\n",
    "simulator = QasmSimulator()\n",
    "compiled_circuit = transpile(circuit, simulator)\n",
    "job = simulator.run(compiled_circuit, shots=1000)\n",
    "result = job.result()\n",
    "\n",
    "counts = result.get_counts(compiled_circuit)\n",
    "print(\"{output : number of shots} = \",counts)"
   ]
  },
  {
   "cell_type": "code",
   "execution_count": 38,
   "id": "51bdfff9",
   "metadata": {},
   "outputs": [
    {
     "data": {
      "image/png": "[encoded data removed]",
      "text/plain": [
       "<Figure size 705.552x451.5 with 1 Axes>"
      ]
     },
     "execution_count": 38,
     "metadata": {},
     "output_type": "execute_result"
    }
   ],
   "source": [
    "%matplotlib inline\n",
    "circuit.draw(output='mpl')"
   ]
  },
  {
   "cell_type": "code",
   "execution_count": 39,
   "id": "b3c82610",
   "metadata": {},
   "outputs": [
    {
     "data": {
      "image/png": "[encoded data removed]",
      "text/plain": [
       "<Figure size 700x500 with 1 Axes>"
      ]
     },
     "execution_count": 39,
     "metadata": {},
     "output_type": "execute_result"
    }
   ],
   "source": [
    "plot_histogram(counts)"
   ]
  },
  {
   "cell_type": "markdown",
   "id": "d44f0156",
   "metadata": {},
   "source": [
    "Each possible outcome has a 25% chance!"
   ]
  },
  {
   "cell_type": "markdown",
   "id": "08fc73f2",
   "metadata": {},
   "source": [
    "# To be continued..."
   ]
  }
 ],
 "metadata": {
  "kernelspec": {
   "display_name": "Python 3 (ipykernel)",
   "language": "python",
   "name": "python3"
  },
  "language_info": {
   "codemirror_mode": {
    "name": "ipython",
    "version": 3
   },
   "file_extension": ".py",
   "mimetype": "text/x-python",
   "name": "python",
   "nbconvert_exporter": "python",
   "pygments_lexer": "ipython3",
   "version": "3.11.2"
  }
 },
 "nbformat": 4,
 "nbformat_minor": 5
}
